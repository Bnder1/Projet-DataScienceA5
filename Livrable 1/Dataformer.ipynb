{
 "cells": [
  {
   "cell_type": "code",
   "execution_count": 11,
   "id": "d7c90c22",
   "metadata": {},
   "outputs": [],
   "source": [
    "import os\n",
    "import shutil\n",
    "\n",
    "dataset_folder = \"/Users/cpt_n2mo/Desktop/GitHub/Projet-DataScienceA5/datasets/\"\n",
    "\n",
    "\n",
    "zictionnaire = {\"painting_00416.jpg\": \"sketch\", \"painting_00696.jpg\": \"sketch\", \"painting_00837.jpg\": \"sketch\", \"painting_00997.jpg\": \"sketch\", \"painting_02125.jpg\": \"photo\", \"photo_2051.jpg\": \"painting\", \"photo_3477.jpg\": \"painting\", \"photo_7854.jpg\": \"painting\", \"photo_8489.jpg\": \"painting\", \"photo_8738.jpg\": \"painting\", \"schematics_00675.jpg\": \"photo\", \"schematics_00679.jpg\": \"photo\", \"schematics_00999.jpg\": \"photo\", \"schematics_01180.jpg\": \"photo\", \"schematics_03445.jpg\": \"photo\", \"schematics_04552.jpg\": \"photo\", \"schematics_06768.jpg\": \"photo\", \"painting_00475.jpg\": \"text\", \"schematics_00625.jpg\": \"painting\"}\n",
    "\n",
    "\n",
    "for cle, valeur in zictionnaire.items():\n",
    "    source_folder = cle.split(\"_\")[0]\n",
    "    source_folder = source_folder.capitalize()\n",
    "    destination_folder = valeur.capitalize()\n",
    "    if os.path.isfile(dataset_folder+source_folder+\"/\"+cle):\n",
    "        shutil.move(dataset_folder+source_folder+\"/\"+cle, dataset_folder+destination_folder+\"/\"+cle)"
   ]
  },
  {
   "cell_type": "code",
   "execution_count": null,
   "id": "a250ad10",
   "metadata": {},
   "outputs": [],
   "source": []
  }
 ],
 "metadata": {
  "kernelspec": {
   "display_name": "Python 3",
   "language": "python",
   "name": "python3"
  },
  "language_info": {
   "codemirror_mode": {
    "name": "ipython",
    "version": 3
   },
   "file_extension": ".py",
   "mimetype": "text/x-python",
   "name": "python",
   "nbconvert_exporter": "python",
   "pygments_lexer": "ipython3",
   "version": "3.9.9"
  }
 },
 "nbformat": 4,
 "nbformat_minor": 5
}
