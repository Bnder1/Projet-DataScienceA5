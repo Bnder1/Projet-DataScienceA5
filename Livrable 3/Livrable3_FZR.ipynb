{
 "cells": [
  {
   "cell_type": "markdown",
   "id": "63f0f578",
   "metadata": {},
   "source": [
    "![jolie image](img/download.jpg)\n",
    "# Livrable 3\n",
    "## Captioning\n",
    "\n",
    "## Groupe de projet 1 :\n",
    "- Rémi Papin\n",
    "- Fabien Richard\n",
    "- Zacharia Azzouzi\n",
    "\n",
    "## Introduction\n",
    "\n",
    "Dans ce troisième livrable nous allons réaliser du Captioning, c'est-à-dire la génération automatique des légendes. Nous utiliserons deux techniques avancées de Machine Learning : \n",
    "- les réseaux de neurones récurrents (RNN);\n",
    "- les réseaux de neurones convolutifs (CNN). \n",
    "\n",
    "Les RNN permettent de générer les étiquettes, il sera nécessaire de passer avant par des CNN pour prétraiter les images. Cela va nous permettre d'identifier les zones d'intérêt dans les images, et de représenter les images en question de manière plus compacte (Ceci nous permet de ne pas charger l'ensemble des images en RAM). \n",
    "\n",
    "Nous Nous appuierons sur des datasets d'étiquetage classiques pour effectuer l'apprentissage supervisé.\n",
    "\n",
    "De plus Nous fusionnons les livrable 1, 2 et 3 de façon à obtenir un projet automatisé."
   ]
  },
  {
   "cell_type": "markdown",
   "id": "27ff9036",
   "metadata": {},
   "source": [
    "## Imports"
   ]
  },
  {
   "cell_type": "code",
   "execution_count": null,
   "id": "29d6e5b7",
   "metadata": {},
   "outputs": [],
   "source": [
    "import os\n",
    "import random\n",
    "import cv2\n",
    "import datetime\n",
    "import pathlib\n",
    "import configuration\n",
    "\n",
    "from PIL import Image\n",
    "import matplotlib.pyplot as plt\n",
    "%matplotlib inline\n",
    "import numpy as np\n",
    "\n",
    "\n",
    "import tensorflow as tf\n",
    "from tensorflow import keras\n",
    "from tensorflow.keras import layers\n",
    "from tensorflow.keras import backend as K\n",
    "from tensorboard.plugins.hparams import api as hp\n",
    "\n",
    "data_dir = configuration.data_dir"
   ]
  },
  {
   "cell_type": "code",
   "execution_count": null,
   "id": "fc59585f",
   "metadata": {},
   "outputs": [],
   "source": []
  }
 ],
 "metadata": {
  "kernelspec": {
   "display_name": "Python 3",
   "language": "python",
   "name": "python3"
  },
  "language_info": {
   "codemirror_mode": {
    "name": "ipython",
    "version": 3
   },
   "file_extension": ".py",
   "mimetype": "text/x-python",
   "name": "python",
   "nbconvert_exporter": "python",
   "pygments_lexer": "ipython3",
   "version": "3.9.9"
  }
 },
 "nbformat": 4,
 "nbformat_minor": 5
}
