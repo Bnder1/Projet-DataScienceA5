{
 "cells": [
  {
   "cell_type": "markdown",
   "id": "2bbb8ad2",
   "metadata": {},
   "source": [
    "![jolie image](img/download.jpg)\n",
    "# Livrable 3\n",
    "## Captioning\n",
    "\n",
    "Groupe de projet :\n",
    "- Rémi Papin\n",
    "- Fabien Richard\n",
    "- Zacharia Azzouzi\n",
    "\n",
    "## Introduction"
   ]
  },
  {
   "cell_type": "code",
   "execution_count": null,
   "id": "59919b9f",
   "metadata": {},
   "outputs": [],
   "source": []
  },
  {
   "cell_type": "code",
   "execution_count": null,
   "id": "125bea9b",
   "metadata": {},
   "outputs": [],
   "source": [
    "import os\n",
    "import random\n",
    "import cv2\n",
    "import datetime\n",
    "import pathlib\n",
    "import configuration\n",
    "\n",
    "from PIL import Image\n",
    "import matplotlib.pyplot as plt\n",
    "%matplotlib inline\n",
    "import numpy as np\n",
    "\n",
    "\n",
    "import tensorflow as tf\n",
    "from tensorflow import keras\n",
    "from tensorflow.keras import layers\n",
    "from tensorflow.keras import backend as K\n",
    "from tensorboard.plugins.hparams import api as hp\n",
    "\n",
    "\n",
    "data_dir = configuration.data_dir"
   ]
  }
 ],
 "metadata": {
  "kernelspec": {
   "display_name": "Python 3",
   "language": "python",
   "name": "python3"
  },
  "language_info": {
   "codemirror_mode": {
    "name": "ipython",
    "version": 3
   },
   "file_extension": ".py",
   "mimetype": "text/x-python",
   "name": "python",
   "nbconvert_exporter": "python",
   "pygments_lexer": "ipython3",
   "version": "3.9.9"
  }
 },
 "nbformat": 4,
 "nbformat_minor": 5
}
